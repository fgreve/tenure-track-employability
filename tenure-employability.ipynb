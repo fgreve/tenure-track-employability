{
 "cells": [
  {
   "cell_type": "markdown",
   "metadata": {},
   "source": [
    "# Does faculty's tenure increase graduates employability?\n",
    "\n",
    "### Fernando Greve <br> fgreve@gmail.com <br> www.fernandogreve.com"
   ]
  },
  {
   "cell_type": "code",
   "execution_count": 1,
   "metadata": {},
   "outputs": [],
   "source": [
    "import os\n",
    "import numpy as np\n",
    "import pandas as pd\n",
    "from openpyxl import load_workbook\n",
    "import re\n",
    "import stringcase\n",
    "from unidecode import unidecode\n",
    "\n",
    "import matplotlib.pyplot as plt\n",
    "\n",
    "import statsmodels.api as sm\n",
    "import statsmodels.formula.api as smf\n",
    "from statsmodels.iolib.summary2 import summary_col\n",
    "from linearmodels.iv import IV2SLS"
   ]
  },
  {
   "cell_type": "code",
   "execution_count": 2,
   "metadata": {},
   "outputs": [],
   "source": [
    "# docentes\n",
    "path = os.path.join(\"data/\", \"indices_institucional_2005_2019.xlsx\")\n",
    "\n",
    "# Load workbook\n",
    "wb = load_workbook(filename=path, read_only=True, data_only=True)\n",
    "\n",
    "# Access to a worksheet\n",
    "# wss = workbook.sheetnames\n",
    "ws = wb['Docentes']\n",
    "\n",
    "# Convert to DataFrame\n",
    "docentes = pd.DataFrame(ws.values)\n",
    "docentes.columns = docentes.iloc[0]\n",
    "docentes = docentes.iloc[1:]\n",
    "\n",
    "docentes = docentes[docentes[\"Año Proceso\"] == 2019]\n",
    "\n",
    "docentes[\"institucion\"] = docentes[\"Nombre Institución\"].str.replace('U.','UNIVERSIDAD')\n",
    "docentes[\"institucion\"] = docentes[\"institucion\"].str.replace('C.F.T.','centro_de_formacion_tecnica')\n",
    "docentes[\"institucion\"] = docentes[\"institucion\"].str.replace('I.P.','instituto_profesional')\n",
    "docentes[\"institucion\"] = docentes[\"institucion\"].apply(stringcase.lowercase).apply(stringcase.snakecase).apply(unidecode)\n",
    "\n",
    "docentes[\"sede\"] = docentes[\"Sede\"]\n",
    "docentes[\"sede\"] = docentes[\"sede\"].apply(stringcase.lowercase).apply(stringcase.snakecase).apply(unidecode)\n",
    "\n",
    "docentes.columns = docentes.columns.str.replace('°','_') #.apply(unidecode)\n",
    "\n",
    "docentes.to_csv(\"docentes.csv\", index = False)"
   ]
  },
  {
   "cell_type": "code",
   "execution_count": 3,
   "metadata": {
    "scrolled": false
   },
   "outputs": [],
   "source": [
    "# empleabilidad\n",
    "path = os.path.join(\"data/\", \"Buscador-empleabilidad-e-ingresos_mifuturo_2020.xlsx\")\n",
    "\n",
    "# Load workbook\n",
    "wb = load_workbook(filename=path, read_only=True, data_only=True)\n",
    "\n",
    "# Access to a worksheet\n",
    "ws = wb['Empleabilidad e Ingresos']\n",
    "\n",
    "# Convert to DataFrame\n",
    "empleabilidad = pd.DataFrame(ws.values)\n",
    "empleabilidad.columns = empleabilidad.iloc[0]\n",
    "empleabilidad = empleabilidad.iloc[1:]\n",
    "\n",
    "empleabilidad[\"institucion\"] = empleabilidad[\"Nombre de institución\"].apply(stringcase.lowercase).apply(stringcase.snakecase).apply(unidecode)\n",
    "empleabilidad[\"carrera\"] = empleabilidad[\"Nombre carrera genérica\"].apply(stringcase.lowercase).apply(stringcase.snakecase).apply(unidecode)\n",
    "\n",
    "empleabilidad.columns = map(str.lower, empleabilidad.columns)\n",
    "empleabilidad.columns = map(unidecode, empleabilidad.columns)\n",
    "empleabilidad.columns = map(stringcase.snakecase, empleabilidad.columns)\n",
    "\n",
    "empleabilidad.to_csv(\"empleabilidad.csv\", index = False)"
   ]
  },
  {
   "cell_type": "code",
   "execution_count": 4,
   "metadata": {},
   "outputs": [],
   "source": [
    "# indices\n",
    "path = os.path.join(\"data\", \"ofertapregado2020.xlsx\")\n",
    "\n",
    "# Load workbook\n",
    "wb = load_workbook(filename=path, read_only=True, data_only=True)\n",
    "\n",
    "# Access to a worksheet\n",
    "ws = wb['INDICES_Oferta2020Pregrado']\n",
    "\n",
    "# Convert to DataFrame\n",
    "indices = pd.DataFrame(ws.values)\n",
    "indices.columns = indices.iloc[0]\n",
    "indices = indices.iloc[1:]\n",
    "\n",
    "indices[\"institucion\"] = indices[\"Nombre Institución\"].str.replace('U.','UNIVERSIDAD')\n",
    "indices[\"institucion\"] = indices[\"institucion\"].str.replace('C.F.T.','centro_de_formacion_tecnica')\n",
    "indices[\"institucion\"] = indices[\"institucion\"].str.replace('I.P.','instituto_profesional')\n",
    "indices[\"institucion\"] = indices[\"institucion\"].apply(stringcase.lowercase).apply(stringcase.snakecase).apply(unidecode)\n",
    "\n",
    "indices[\"carrera\"] = indices[\"Carrera Genérica\"].apply(stringcase.lowercase).apply(stringcase.snakecase).apply(unidecode)\n",
    "\n",
    "indices[\"sede\"] = indices[\"Nombre de la Sede\"]\n",
    "indices[\"sede\"] = indices[\"sede\"].apply(stringcase.lowercase).apply(stringcase.snakecase).apply(unidecode)\n",
    "\n",
    "indices.columns = map(str.lower, indices.columns)\n",
    "indices.columns = map(unidecode, indices.columns)\n",
    "indices.columns = map(stringcase.snakecase, indices.columns)\n",
    "\n",
    "indices.to_csv(\"indices.csv\", index = False)"
   ]
  },
  {
   "cell_type": "code",
   "execution_count": 5,
   "metadata": {
    "scrolled": true
   },
   "outputs": [],
   "source": [
    "# docentes_2\n",
    "docentes_2 = pd.merge(docentes, indices, how='left', on=[\"institucion\", \"sede\"])\n",
    "docentes_2.to_csv(\"docentes.csv\", index = False)"
   ]
  },
  {
   "cell_type": "code",
   "execution_count": 6,
   "metadata": {},
   "outputs": [],
   "source": [
    "# data\n",
    "df = pd.merge(empleabilidad, docentes_2, how='left', on=[\"institucion\", \"carrera\"])\n",
    "df.to_csv(\"data.csv\", index = False)"
   ]
  },
  {
   "cell_type": "code",
   "execution_count": 7,
   "metadata": {},
   "outputs": [
    {
     "data": {
      "text/plain": [
       "(2774, 99)"
      ]
     },
     "execution_count": 7,
     "metadata": {},
     "output_type": "execute_result"
    }
   ],
   "source": [
    "df.shape"
   ]
  },
  {
   "cell_type": "code",
   "execution_count": 8,
   "metadata": {},
   "outputs": [
    {
     "data": {
      "text/html": [
       "<div>\n",
       "<style scoped>\n",
       "    .dataframe tbody tr th:only-of-type {\n",
       "        vertical-align: middle;\n",
       "    }\n",
       "\n",
       "    .dataframe tbody tr th {\n",
       "        vertical-align: top;\n",
       "    }\n",
       "\n",
       "    .dataframe thead th {\n",
       "        text-align: right;\n",
       "    }\n",
       "</style>\n",
       "<table border=\"1\" class=\"dataframe\">\n",
       "  <thead>\n",
       "    <tr style=\"text-align: right;\">\n",
       "      <th></th>\n",
       "      <th>codigo_ies</th>\n",
       "      <th>tipo_de_institucion</th>\n",
       "      <th>nombre_de_institucion</th>\n",
       "      <th>acreditacion_institucion__(datos_al_30_de_noviembre_2019)</th>\n",
       "      <th>area</th>\n",
       "      <th>nombre_carrera_generica</th>\n",
       "      <th>nombre_carrera</th>\n",
       "      <th>%_titulados_con_continuidad_de_estudios</th>\n",
       "      <th>retencion_1er_ano</th>\n",
       "      <th>duracion_real_(semestres)</th>\n",
       "      <th>...</th>\n",
       "      <th>cod__campus</th>\n",
       "      <th>cod__sede</th>\n",
       "      <th>titulo</th>\n",
       "      <th>grado_academico</th>\n",
       "      <th>valor_de_matricula</th>\n",
       "      <th>valor_de_arancel</th>\n",
       "      <th>valor_del_titulo</th>\n",
       "      <th>vacantes_(1)</th>\n",
       "      <th>codgo_sies</th>\n",
       "      <th>pregrado/posgrado</th>\n",
       "    </tr>\n",
       "  </thead>\n",
       "  <tbody>\n",
       "    <tr>\n",
       "      <th>0</th>\n",
       "      <td>1</td>\n",
       "      <td>Universidades</td>\n",
       "      <td>Universidad Gabriela Mistral</td>\n",
       "      <td>No</td>\n",
       "      <td>Administración y Comercio</td>\n",
       "      <td>Ingeniería Comercial</td>\n",
       "      <td>Ingeniería Comercial</td>\n",
       "      <td>0.0319149</td>\n",
       "      <td>s/i</td>\n",
       "      <td>13.9231</td>\n",
       "      <td>...</td>\n",
       "      <td>NaN</td>\n",
       "      <td>NaN</td>\n",
       "      <td>NaN</td>\n",
       "      <td>NaN</td>\n",
       "      <td>NaN</td>\n",
       "      <td>NaN</td>\n",
       "      <td>NaN</td>\n",
       "      <td>NaN</td>\n",
       "      <td>NaN</td>\n",
       "      <td>NaN</td>\n",
       "    </tr>\n",
       "    <tr>\n",
       "      <th>1</th>\n",
       "      <td>1</td>\n",
       "      <td>Universidades</td>\n",
       "      <td>Universidad Gabriela Mistral</td>\n",
       "      <td>No</td>\n",
       "      <td>Ciencias Sociales</td>\n",
       "      <td>Psicología</td>\n",
       "      <td>Psicología</td>\n",
       "      <td>0.0105263</td>\n",
       "      <td>s/i</td>\n",
       "      <td>13.3704</td>\n",
       "      <td>...</td>\n",
       "      <td>NaN</td>\n",
       "      <td>NaN</td>\n",
       "      <td>NaN</td>\n",
       "      <td>NaN</td>\n",
       "      <td>NaN</td>\n",
       "      <td>NaN</td>\n",
       "      <td>NaN</td>\n",
       "      <td>NaN</td>\n",
       "      <td>NaN</td>\n",
       "      <td>NaN</td>\n",
       "    </tr>\n",
       "    <tr>\n",
       "      <th>2</th>\n",
       "      <td>2</td>\n",
       "      <td>Universidades</td>\n",
       "      <td>Universidad Finis Terrae</td>\n",
       "      <td>4 años</td>\n",
       "      <td>Arte y Arquitectura</td>\n",
       "      <td>Arquitectura</td>\n",
       "      <td>Arquitectura</td>\n",
       "      <td>0</td>\n",
       "      <td>0.766234</td>\n",
       "      <td>s/i</td>\n",
       "      <td>...</td>\n",
       "      <td>1023001002</td>\n",
       "      <td>1023001</td>\n",
       "      <td>Arquitecto</td>\n",
       "      <td>Licenciado en Arquitectura</td>\n",
       "      <td>450000</td>\n",
       "      <td>5071000</td>\n",
       "      <td>450000</td>\n",
       "      <td>72</td>\n",
       "      <td>I2S1C3J1V1</td>\n",
       "      <td>Pregrado</td>\n",
       "    </tr>\n",
       "    <tr>\n",
       "      <th>3</th>\n",
       "      <td>2</td>\n",
       "      <td>Universidades</td>\n",
       "      <td>Universidad Finis Terrae</td>\n",
       "      <td>4 años</td>\n",
       "      <td>Arte y Arquitectura</td>\n",
       "      <td>Artes y Licenciatura en Artes</td>\n",
       "      <td>Artes Visuales</td>\n",
       "      <td>0.205882</td>\n",
       "      <td>0.814286</td>\n",
       "      <td>10.3333</td>\n",
       "      <td>...</td>\n",
       "      <td>NaN</td>\n",
       "      <td>NaN</td>\n",
       "      <td>NaN</td>\n",
       "      <td>NaN</td>\n",
       "      <td>NaN</td>\n",
       "      <td>NaN</td>\n",
       "      <td>NaN</td>\n",
       "      <td>NaN</td>\n",
       "      <td>NaN</td>\n",
       "      <td>NaN</td>\n",
       "    </tr>\n",
       "    <tr>\n",
       "      <th>4</th>\n",
       "      <td>2</td>\n",
       "      <td>Universidades</td>\n",
       "      <td>Universidad Finis Terrae</td>\n",
       "      <td>4 años</td>\n",
       "      <td>Arte y Arquitectura</td>\n",
       "      <td>Diseño</td>\n",
       "      <td>Diseño</td>\n",
       "      <td>0.0215054</td>\n",
       "      <td>0.876923</td>\n",
       "      <td>10.3077</td>\n",
       "      <td>...</td>\n",
       "      <td>1023001002</td>\n",
       "      <td>1023001</td>\n",
       "      <td>Diseñador</td>\n",
       "      <td>Licenciado en Diseño</td>\n",
       "      <td>462000</td>\n",
       "      <td>4815000</td>\n",
       "      <td>450000</td>\n",
       "      <td>60</td>\n",
       "      <td>I2S1C4J1V1</td>\n",
       "      <td>Pregrado</td>\n",
       "    </tr>\n",
       "  </tbody>\n",
       "</table>\n",
       "<p>5 rows × 99 columns</p>\n",
       "</div>"
      ],
      "text/plain": [
       "  codigo_ies tipo_de_institucion         nombre_de_institucion  \\\n",
       "0          1       Universidades  Universidad Gabriela Mistral   \n",
       "1          1       Universidades  Universidad Gabriela Mistral   \n",
       "2          2       Universidades      Universidad Finis Terrae   \n",
       "3          2       Universidades      Universidad Finis Terrae   \n",
       "4          2       Universidades      Universidad Finis Terrae   \n",
       "\n",
       "  acreditacion_institucion__(datos_al_30_de_noviembre_2019)  \\\n",
       "0                                                 No          \n",
       "1                                                 No          \n",
       "2                                             4 años          \n",
       "3                                             4 años          \n",
       "4                                             4 años          \n",
       "\n",
       "                        area        nombre_carrera_generica  \\\n",
       "0  Administración y Comercio           Ingeniería Comercial   \n",
       "1          Ciencias Sociales                     Psicología   \n",
       "2        Arte y Arquitectura                   Arquitectura   \n",
       "3        Arte y Arquitectura  Artes y Licenciatura en Artes   \n",
       "4        Arte y Arquitectura                         Diseño   \n",
       "\n",
       "         nombre_carrera %_titulados_con_continuidad_de_estudios  \\\n",
       "0  Ingeniería Comercial                               0.0319149   \n",
       "1            Psicología                               0.0105263   \n",
       "2          Arquitectura                                       0   \n",
       "3        Artes Visuales                                0.205882   \n",
       "4                Diseño                               0.0215054   \n",
       "\n",
       "  retencion_1er_ano duracion_real_(semestres)  ... cod__campus cod__sede  \\\n",
       "0               s/i                   13.9231  ...         NaN       NaN   \n",
       "1               s/i                   13.3704  ...         NaN       NaN   \n",
       "2          0.766234                       s/i  ...  1023001002   1023001   \n",
       "3          0.814286                   10.3333  ...         NaN       NaN   \n",
       "4          0.876923                   10.3077  ...  1023001002   1023001   \n",
       "\n",
       "       titulo             grado_academico valor_de_matricula valor_de_arancel  \\\n",
       "0         NaN                         NaN                NaN              NaN   \n",
       "1         NaN                         NaN                NaN              NaN   \n",
       "2  Arquitecto  Licenciado en Arquitectura             450000          5071000   \n",
       "3         NaN                         NaN                NaN              NaN   \n",
       "4  Diseñador         Licenciado en Diseño             462000          4815000   \n",
       "\n",
       "  valor_del_titulo vacantes_(1)  codgo_sies pregrado/posgrado  \n",
       "0              NaN          NaN         NaN               NaN  \n",
       "1              NaN          NaN         NaN               NaN  \n",
       "2           450000           72  I2S1C3J1V1          Pregrado  \n",
       "3              NaN          NaN         NaN               NaN  \n",
       "4           450000           60  I2S1C4J1V1          Pregrado  \n",
       "\n",
       "[5 rows x 99 columns]"
      ]
     },
     "execution_count": 8,
     "metadata": {},
     "output_type": "execute_result"
    }
   ],
   "source": [
    "df.head()"
   ]
  },
  {
   "cell_type": "code",
   "execution_count": 9,
   "metadata": {},
   "outputs": [
    {
     "data": {
      "image/png": "[encoded data removed]",
      "text/plain": [
       "<Figure size 576x396 with 1 Axes>"
      ]
     },
     "metadata": {},
     "output_type": "display_data"
    }
   ],
   "source": [
    "plt.style.use('seaborn')\n",
    "df.plot(x='N_HorasDoctorJornadaCompleta', y='empleabilidad_1er_ano', kind='scatter')\n",
    "plt.show()"
   ]
  },
  {
   "cell_type": "code",
   "execution_count": 10,
   "metadata": {},
   "outputs": [
    {
     "name": "stderr",
     "output_type": "stream",
     "text": [
      "C:\\Anaconda3\\lib\\site-packages\\pandas\\core\\series.py:726: RuntimeWarning: divide by zero encountered in log\n",
      "  result = getattr(ufunc, method)(*inputs, **kwargs)\n"
     ]
    },
    {
     "data": {
      "text/plain": [
       "array([ 7.70571282,  8.88889467,  4.47733681,  7.90433484,  3.55534806,\n",
       "        4.18965474,  5.45103845,  5.24174702,  9.02809881,  5.98645201,\n",
       "        4.90527478,  7.46737107,  5.83481074,  5.19295685,        -inf,\n",
       "        4.8598124 ,  4.44265126,  4.31748811,  4.84418709,  5.5683445 ,\n",
       "        4.36944785,  5.46806014,  7.03614849,  3.80666249,  9.41857331,\n",
       "        7.95331835,  7.07749805,  7.20785987,  9.13873695,  7.30451595,\n",
       "        8.8178902 ,  6.42648846,  7.00306546,  5.72031178,  8.15219802,\n",
       "        5.56068163,  6.65672652,  8.36053938, 10.84406106,  9.77565418,\n",
       "        9.31136149,  5.69373214,  8.80807015,  8.49023301,  8.77493139,\n",
       "        8.51959032,  9.25874951,  8.16308638,  9.1372319 ,  7.47306909,\n",
       "        5.86363118,  8.56959587,  6.34913899,  8.08886879,  7.3395377 ,\n",
       "        7.92732436, 10.69103541,  8.16650032,  9.11778639,  5.3082677 ,\n",
       "        5.65599181,  9.7880767 ,  8.81522156,  7.8272409 ,  8.88280805,\n",
       "        3.73766962])"
      ]
     },
     "execution_count": 10,
     "metadata": {},
     "output_type": "execute_result"
    }
   ],
   "source": [
    "df['N_HorasDoctorJornadaCompleta'] = df['N_HorasDoctorJornadaCompleta'].astype(float)\n",
    "df[\"horas_phd_ln\"] = np.log(df[\"N_HorasDoctorJornadaCompleta\"])\n",
    "\n",
    "df = df[df['horas_phd_ln'].notna()]\n",
    "\n",
    "df[\"horas_phd_ln\"].unique()"
   ]
  },
  {
   "cell_type": "code",
   "execution_count": 11,
   "metadata": {},
   "outputs": [
    {
     "data": {
      "image/png": "[encoded data removed]",
      "text/plain": [
       "<Figure size 576x396 with 1 Axes>"
      ]
     },
     "metadata": {},
     "output_type": "display_data"
    }
   ],
   "source": [
    "plt.style.use('seaborn')\n",
    "df.plot(x='horas_phd_ln', y='empleabilidad_1er_ano', kind='scatter')\n",
    "plt.show()"
   ]
  },
  {
   "cell_type": "code",
   "execution_count": 12,
   "metadata": {},
   "outputs": [
    {
     "name": "stderr",
     "output_type": "stream",
     "text": [
      "C:\\Anaconda3\\lib\\site-packages\\ipykernel_launcher.py:1: SettingWithCopyWarning: \n",
      "A value is trying to be set on a copy of a slice from a DataFrame.\n",
      "Try using .loc[row_indexer,col_indexer] = value instead\n",
      "\n",
      "See the caveats in the documentation: https://pandas.pydata.org/pandas-docs/stable/user_guide/indexing.html#returning-a-view-versus-a-copy\n",
      "  \"\"\"Entry point for launching an IPython kernel.\n"
     ]
    }
   ],
   "source": [
    "df['empleabilidad_1er_ano'] = df['empleabilidad_1er_ano'].astype(float)\n",
    "df = df[df['empleabilidad_1er_ano'].notna()]"
   ]
  },
  {
   "cell_type": "code",
   "execution_count": 13,
   "metadata": {},
   "outputs": [
    {
     "name": "stdout",
     "output_type": "stream",
     "text": [
      "                              OLS Regression Results                             \n",
      "=================================================================================\n",
      "Dep. Variable:     empleabilidad_1er_ano   R-squared:                       0.069\n",
      "Model:                               OLS   Adj. R-squared:                  0.068\n",
      "Method:                    Least Squares   F-statistic:                     114.1\n",
      "Date:                   Sun, 04 Oct 2020   Prob (F-statistic):           9.42e-26\n",
      "Time:                           21:50:23   Log-Likelihood:                 796.11\n",
      "No. Observations:                   1547   AIC:                            -1588.\n",
      "Df Residuals:                       1545   BIC:                            -1578.\n",
      "Df Model:                              1                                         \n",
      "Covariance Type:               nonrobust                                         \n",
      "================================================================================================\n",
      "                                   coef    std err          t      P>|t|      [0.025      0.975]\n",
      "------------------------------------------------------------------------------------------------\n",
      "Intercept                        0.6403      0.004    162.989      0.000       0.633       0.648\n",
      "N_HorasDoctorJornadaCompleta  4.981e-06   4.66e-07     10.683      0.000    4.07e-06     5.9e-06\n",
      "==============================================================================\n",
      "Omnibus:                       24.753   Durbin-Watson:                   0.522\n",
      "Prob(Omnibus):                  0.000   Jarque-Bera (JB):               22.966\n",
      "Skew:                          -0.255   Prob(JB):                     1.03e-05\n",
      "Kurtosis:                       2.688   Cond. No.                     9.00e+03\n",
      "==============================================================================\n",
      "\n",
      "Warnings:\n",
      "[1] Standard Errors assume that the covariance matrix of the errors is correctly specified.\n",
      "[2] The condition number is large,  9e+03. This might indicate that there are\n",
      "strong multicollinearity or other numerical problems.\n"
     ]
    }
   ],
   "source": [
    "df['empleabilidad_1er_ano'] = df['empleabilidad_1er_ano'].astype(float)\n",
    "\n",
    "results = smf.ols('empleabilidad_1er_ano ~ N_HorasDoctorJornadaCompleta', data=df).fit()\n",
    "print(results.summary())"
   ]
  },
  {
   "cell_type": "code",
   "execution_count": 14,
   "metadata": {},
   "outputs": [
    {
     "name": "stdout",
     "output_type": "stream",
     "text": [
      "                              OLS Regression Results                             \n",
      "=================================================================================\n",
      "Dep. Variable:     empleabilidad_1er_ano   R-squared:                       0.123\n",
      "Model:                               OLS   Adj. R-squared:                  0.122\n",
      "Method:                    Least Squares   F-statistic:                     113.2\n",
      "Date:                   Sun, 04 Oct 2020   Prob (F-statistic):           7.84e-25\n",
      "Time:                           21:50:23   Log-Likelihood:                 409.98\n",
      "No. Observations:                    809   AIC:                            -816.0\n",
      "Df Residuals:                        807   BIC:                            -806.6\n",
      "Df Model:                              1                                         \n",
      "Covariance Type:               nonrobust                                         \n",
      "================================================================================\n",
      "                   coef    std err          t      P>|t|      [0.025      0.975]\n",
      "--------------------------------------------------------------------------------\n",
      "Intercept        0.4813      0.020     24.518      0.000       0.443       0.520\n",
      "horas_phd_ln     0.0281      0.003     10.640      0.000       0.023       0.033\n",
      "==============================================================================\n",
      "Omnibus:                       36.577   Durbin-Watson:                   0.965\n",
      "Prob(Omnibus):                  0.000   Jarque-Bera (JB):               39.966\n",
      "Skew:                          -0.530   Prob(JB):                     2.10e-09\n",
      "Kurtosis:                       2.753   Cond. No.                         28.9\n",
      "==============================================================================\n",
      "\n",
      "Warnings:\n",
      "[1] Standard Errors assume that the covariance matrix of the errors is correctly specified.\n"
     ]
    }
   ],
   "source": [
    "results01 = smf.ols('empleabilidad_1er_ano ~ horas_phd_ln', data=df[df['N_HorasDoctorJornadaCompleta']>0]).fit()\n",
    "print(results01.summary())"
   ]
  },
  {
   "cell_type": "code",
   "execution_count": 15,
   "metadata": {},
   "outputs": [
    {
     "name": "stdout",
     "output_type": "stream",
     "text": [
      "                              OLS Regression Results                             \n",
      "=================================================================================\n",
      "Dep. Variable:     empleabilidad_1er_ano   R-squared:                       0.080\n",
      "Model:                               OLS   Adj. R-squared:                  0.079\n",
      "Method:                    Least Squares   F-statistic:                     67.30\n",
      "Date:                   Sun, 04 Oct 2020   Prob (F-statistic):           9.43e-29\n",
      "Time:                           21:50:23   Log-Likelihood:                 805.64\n",
      "No. Observations:                   1547   AIC:                            -1605.\n",
      "Df Residuals:                       1544   BIC:                            -1589.\n",
      "Df Model:                              2                                         \n",
      "Covariance Type:               nonrobust                                         \n",
      "================================================================================================\n",
      "                                   coef    std err          t      P>|t|      [0.025      0.975]\n",
      "------------------------------------------------------------------------------------------------\n",
      "Intercept                        0.6106      0.008     77.850      0.000       0.595       0.626\n",
      "N_HorasDoctorJornadaCompleta  4.029e-06   5.12e-07      7.867      0.000    3.02e-06    5.03e-06\n",
      "valor_de_arancel              1.154e-08   2.64e-09      4.375      0.000    6.37e-09    1.67e-08\n",
      "==============================================================================\n",
      "Omnibus:                       23.824   Durbin-Watson:                   0.506\n",
      "Prob(Omnibus):                  0.000   Jarque-Bera (JB):               23.332\n",
      "Skew:                          -0.272   Prob(JB):                     8.58e-06\n",
      "Kurtosis:                       2.745   Cond. No.                     6.88e+06\n",
      "==============================================================================\n",
      "\n",
      "Warnings:\n",
      "[1] Standard Errors assume that the covariance matrix of the errors is correctly specified.\n",
      "[2] The condition number is large, 6.88e+06. This might indicate that there are\n",
      "strong multicollinearity or other numerical problems.\n"
     ]
    }
   ],
   "source": [
    "df['valor_de_arancel'] = df['valor_de_arancel'].astype(float)\n",
    "\n",
    "results02 = smf.ols('empleabilidad_1er_ano ~ N_HorasDoctorJornadaCompleta + valor_de_arancel', data=df).fit()\n",
    "print(results02.summary())"
   ]
  },
  {
   "cell_type": "code",
   "execution_count": 16,
   "metadata": {},
   "outputs": [
    {
     "name": "stdout",
     "output_type": "stream",
     "text": [
      "                              OLS Regression Results                             \n",
      "=================================================================================\n",
      "Dep. Variable:     empleabilidad_1er_ano   R-squared:                       0.125\n",
      "Model:                               OLS   Adj. R-squared:                  0.123\n",
      "Method:                    Least Squares   F-statistic:                     57.40\n",
      "Date:                   Sun, 04 Oct 2020   Prob (F-statistic):           4.93e-24\n",
      "Time:                           21:50:23   Log-Likelihood:                 410.75\n",
      "No. Observations:                    809   AIC:                            -815.5\n",
      "Df Residuals:                        806   BIC:                            -801.4\n",
      "Df Model:                              2                                         \n",
      "Covariance Type:               nonrobust                                         \n",
      "=======================================================================================\n",
      "                          coef    std err          t      P>|t|      [0.025      0.975]\n",
      "---------------------------------------------------------------------------------------\n",
      "Intercept               0.1343      0.282      0.476      0.634      -0.419       0.688\n",
      "horas_phd_ln            0.0263      0.003      8.776      0.000       0.020       0.032\n",
      "valor_de_arancel_ln     0.0237      0.019      1.234      0.218      -0.014       0.061\n",
      "==============================================================================\n",
      "Omnibus:                       38.348   Durbin-Watson:                   0.948\n",
      "Prob(Omnibus):                  0.000   Jarque-Bera (JB):               41.887\n",
      "Skew:                          -0.541   Prob(JB):                     8.02e-10\n",
      "Kurtosis:                       2.732   Cond. No.                         927.\n",
      "==============================================================================\n",
      "\n",
      "Warnings:\n",
      "[1] Standard Errors assume that the covariance matrix of the errors is correctly specified.\n"
     ]
    }
   ],
   "source": [
    "df[\"valor_de_arancel_ln\"] = np.log(df[\"valor_de_arancel\"])\n",
    "\n",
    "results03 = smf.ols('empleabilidad_1er_ano ~ horas_phd_ln + valor_de_arancel_ln', data=df[df['N_HorasDoctorJornadaCompleta']>0]).fit()\n",
    "print(results03.summary())"
   ]
  },
  {
   "cell_type": "code",
   "execution_count": 17,
   "metadata": {},
   "outputs": [
    {
     "name": "stdout",
     "output_type": "stream",
     "text": [
      "                               OLS Regression Results                               \n",
      "====================================================================================\n",
      "Dep. Variable:     empleabilidad_1er_ano_ln   R-squared:                       0.108\n",
      "Model:                                  OLS   Adj. R-squared:                  0.105\n",
      "Method:                       Least Squares   F-statistic:                     48.64\n",
      "Date:                      Sun, 04 Oct 2020   Prob (F-statistic):           1.14e-20\n",
      "Time:                              21:50:23   Log-Likelihood:                -1.0905\n",
      "No. Observations:                       809   AIC:                             8.181\n",
      "Df Residuals:                           806   BIC:                             22.27\n",
      "Df Model:                                 2                                         \n",
      "Covariance Type:                  nonrobust                                         \n",
      "=======================================================================================\n",
      "                          coef    std err          t      P>|t|      [0.025      0.975]\n",
      "---------------------------------------------------------------------------------------\n",
      "Intercept              -1.1020      0.469     -2.349      0.019      -2.023      -0.181\n",
      "horas_phd_ln            0.0412      0.005      8.260      0.000       0.031       0.051\n",
      "valor_de_arancel_ln     0.0260      0.032      0.813      0.416      -0.037       0.089\n",
      "==============================================================================\n",
      "Omnibus:                      113.713   Durbin-Watson:                   0.866\n",
      "Prob(Omnibus):                  0.000   Jarque-Bera (JB):              160.578\n",
      "Skew:                          -1.048   Prob(JB):                     1.35e-35\n",
      "Kurtosis:                       3.609   Cond. No.                         927.\n",
      "==============================================================================\n",
      "\n",
      "Warnings:\n",
      "[1] Standard Errors assume that the covariance matrix of the errors is correctly specified.\n"
     ]
    }
   ],
   "source": [
    "df[\"empleabilidad_1er_ano_ln\"] = np.log(df[\"empleabilidad_1er_ano\"])\n",
    "\n",
    "cond1 = df['empleabilidad_1er_ano']>0\n",
    "cond2 = df['valor_de_arancel']>0\n",
    "cond3 = df['N_HorasDoctorJornadaCompleta']>0\n",
    "cond = cond1 & cond2 & cond3\n",
    "\n",
    "results04 = smf.ols('empleabilidad_1er_ano_ln ~ horas_phd_ln + valor_de_arancel_ln', data=df[cond]).fit()\n",
    "print(results04.summary())"
   ]
  },
  {
   "cell_type": "code",
   "execution_count": 18,
   "metadata": {},
   "outputs": [
    {
     "name": "stdout",
     "output_type": "stream",
     "text": [
      "                               OLS Regression Results                               \n",
      "====================================================================================\n",
      "Dep. Variable:     empleabilidad_1er_ano_ln   R-squared:                       0.258\n",
      "Model:                                  OLS   Adj. R-squared:                  0.227\n",
      "Method:                       Least Squares   F-statistic:                     8.182\n",
      "Date:                      Sun, 04 Oct 2020   Prob (F-statistic):           1.52e-32\n",
      "Time:                              21:50:24   Log-Likelihood:                 73.736\n",
      "No. Observations:                       809   AIC:                            -79.47\n",
      "Df Residuals:                           775   BIC:                             80.19\n",
      "Df Model:                                33                                         \n",
      "Covariance Type:                  nonrobust                                         \n",
      "===============================================================================================================================================\n",
      "                                                                                  coef    std err          t      P>|t|      [0.025      0.975]\n",
      "-----------------------------------------------------------------------------------------------------------------------------------------------\n",
      "Intercept                                                                      -1.2694      0.580     -2.187      0.029      -2.409      -0.130\n",
      "C(nombre_de_institucion)[T.Pontificia Universidad Católica de Chile]            0.0399      0.101      0.397      0.692      -0.157       0.237\n",
      "C(nombre_de_institucion)[T.Pontificia Universidad Católica de Valparaíso]      -0.0249      0.102     -0.243      0.808      -0.226       0.176\n",
      "C(nombre_de_institucion)[T.Universidad Adolfo Ibáñez]                           0.1212      0.107      1.135      0.257      -0.088       0.331\n",
      "C(nombre_de_institucion)[T.Universidad Adventista de Chile]                    -0.0033      0.172     -0.019      0.985      -0.340       0.333\n",
      "C(nombre_de_institucion)[T.Universidad Andrés Bello]                            0.0366      0.078      0.469      0.639      -0.116       0.190\n",
      "C(nombre_de_institucion)[T.Universidad Católica de la Santísima Concepción]    -0.1918      0.111     -1.721      0.086      -0.411       0.027\n",
      "C(nombre_de_institucion)[T.Universidad Católica del Norte]                      0.0869      0.090      0.961      0.337      -0.091       0.265\n",
      "C(nombre_de_institucion)[T.Universidad Central de Chile]                        0.0494      0.080      0.614      0.539      -0.109       0.207\n",
      "C(nombre_de_institucion)[T.Universidad Diego Portales]                          0.0348      0.101      0.346      0.730      -0.163       0.233\n",
      "C(nombre_de_institucion)[T.Universidad Finis Terrae]                            0.0183      0.099      0.184      0.854      -0.177       0.213\n",
      "C(nombre_de_institucion)[T.Universidad Mayor]                                  -0.0719      0.081     -0.889      0.374      -0.231       0.087\n",
      "C(nombre_de_institucion)[T.Universidad Pedro de Valdivia]                      -0.3017      0.071     -4.227      0.000      -0.442      -0.162\n",
      "C(nombre_de_institucion)[T.Universidad San Sebastián]                          -0.0273      0.072     -0.376      0.707      -0.169       0.115\n",
      "C(nombre_de_institucion)[T.Universidad Santo Tomás]                            -0.0827      0.065     -1.263      0.207      -0.211       0.046\n",
      "C(nombre_de_institucion)[T.Universidad Tecnológica Metropolitana]               0.1730      0.131      1.316      0.188      -0.085       0.431\n",
      "C(nombre_de_institucion)[T.Universidad Técnica Federico Santa María]            0.0254      0.074      0.344      0.731      -0.120       0.171\n",
      "C(nombre_de_institucion)[T.Universidad de Antofagasta]                          0.1427      0.107      1.328      0.185      -0.068       0.354\n",
      "C(nombre_de_institucion)[T.Universidad de Chile]                                0.1011      0.097      1.047      0.296      -0.089       0.291\n",
      "C(nombre_de_institucion)[T.Universidad de La Frontera]                         -0.0189      0.093     -0.203      0.839      -0.201       0.163\n",
      "C(nombre_de_institucion)[T.Universidad de La Serena]                            0.0979      0.115      0.854      0.394      -0.127       0.323\n",
      "C(nombre_de_institucion)[T.Universidad de Las Américas]                        -0.2094      0.069     -3.054      0.002      -0.344      -0.075\n",
      "C(nombre_de_institucion)[T.Universidad de Los Andes]                            0.0623      0.112      0.556      0.578      -0.157       0.282\n",
      "C(nombre_de_institucion)[T.Universidad de Los Lagos]                           -0.0129      0.094     -0.138      0.891      -0.197       0.171\n",
      "C(nombre_de_institucion)[T.Universidad de Magallanes]                          -0.1826      0.147     -1.241      0.215      -0.471       0.106\n",
      "C(nombre_de_institucion)[T.Universidad de Santiago de Chile]                    0.1820      0.086      2.111      0.035       0.013       0.351\n",
      "C(nombre_de_institucion)[T.Universidad de Talca]                                0.0485      0.093      0.522      0.602      -0.134       0.231\n",
      "C(nombre_de_institucion)[T.Universidad de Tarapacá]                            -0.0226      0.086     -0.261      0.794      -0.192       0.147\n",
      "C(nombre_de_institucion)[T.Universidad de Valparaíso]                           0.0786      0.083      0.949      0.343      -0.084       0.241\n",
      "C(nombre_de_institucion)[T.Universidad de Viña del Mar]                        -0.3266      0.090     -3.632      0.000      -0.503      -0.150\n",
      "C(nombre_de_institucion)[T.Universidad del Bío-Bío]                            -0.1170      0.102     -1.146      0.252      -0.317       0.083\n",
      "C(nombre_de_institucion)[T.Universidad del Desarrollo]                         -0.0913      0.090     -1.017      0.309      -0.267       0.085\n",
      "horas_phd_ln                                                                    0.0075      0.008      0.933      0.351      -0.008       0.023\n",
      "valor_de_arancel_ln                                                             0.0559      0.041      1.370      0.171      -0.024       0.136\n",
      "==============================================================================\n",
      "Omnibus:                       75.963   Durbin-Watson:                   0.946\n",
      "Prob(Omnibus):                  0.000   Jarque-Bera (JB):               96.897\n",
      "Skew:                          -0.848   Prob(JB):                     9.10e-22\n",
      "Kurtosis:                       3.018   Cond. No.                     1.27e+03\n",
      "==============================================================================\n",
      "\n",
      "Warnings:\n",
      "[1] Standard Errors assume that the covariance matrix of the errors is correctly specified.\n",
      "[2] The condition number is large, 1.27e+03. This might indicate that there are\n",
      "strong multicollinearity or other numerical problems.\n"
     ]
    }
   ],
   "source": [
    "results05 = smf.ols('empleabilidad_1er_ano_ln ~ horas_phd_ln + valor_de_arancel_ln + C(nombre_de_institucion)', data=df[cond]).fit()\n",
    "print(results05.summary())\n"
   ]
  },
  {
   "cell_type": "code",
   "execution_count": 19,
   "metadata": {},
   "outputs": [
    {
     "name": "stdout",
     "output_type": "stream",
     "text": [
      "                               OLS Regression Results                               \n",
      "====================================================================================\n",
      "Dep. Variable:     empleabilidad_1er_ano_ln   R-squared:                       0.108\n",
      "Model:                                  OLS   Adj. R-squared:                  0.105\n",
      "Method:                       Least Squares   F-statistic:                     48.59\n",
      "Date:                      Sun, 04 Oct 2020   Prob (F-statistic):           1.20e-20\n",
      "Time:                              21:50:24   Log-Likelihood:               -0.93270\n",
      "No. Observations:                       808   AIC:                             7.865\n",
      "Df Residuals:                           805   BIC:                             21.95\n",
      "Df Model:                                 2                                         \n",
      "Covariance Type:                  nonrobust                                         \n",
      "=================================================================================\n",
      "                    coef    std err          t      P>|t|      [0.025      0.975]\n",
      "---------------------------------------------------------------------------------\n",
      "Intercept        -0.6874      0.054    -12.802      0.000      -0.793      -0.582\n",
      "horas_phd_ln      0.0446      0.005      9.338      0.000       0.035       0.054\n",
      "horas_prof_ln    -0.0062      0.008     -0.801      0.423      -0.021       0.009\n",
      "==============================================================================\n",
      "Omnibus:                      114.302   Durbin-Watson:                   0.873\n",
      "Prob(Omnibus):                  0.000   Jarque-Bera (JB):              161.815\n",
      "Skew:                          -1.048   Prob(JB):                     7.28e-36\n",
      "Kurtosis:                       3.640   Cond. No.                         66.0\n",
      "==============================================================================\n",
      "\n",
      "Warnings:\n",
      "[1] Standard Errors assume that the covariance matrix of the errors is correctly specified.\n"
     ]
    },
    {
     "name": "stderr",
     "output_type": "stream",
     "text": [
      "C:\\Anaconda3\\lib\\site-packages\\pandas\\core\\series.py:726: RuntimeWarning: divide by zero encountered in log\n",
      "  result = getattr(ufunc, method)(*inputs, **kwargs)\n"
     ]
    }
   ],
   "source": [
    "df['N_HorasProfJornadaHora'] = df['N_HorasProfJornadaHora'].astype(float)\n",
    "df[\"horas_prof_ln\"] = np.log(df[\"N_HorasProfJornadaHora\"])\n",
    "\n",
    "cond1 = df['empleabilidad_1er_ano']>0\n",
    "cond2 = df['N_HorasDoctorJornadaCompleta']>0\n",
    "cond3 = df['N_HorasProfJornadaHora']>0\n",
    "cond = cond1 & cond2 & cond3\n",
    "\n",
    "results06 = smf.ols('empleabilidad_1er_ano_ln ~ horas_phd_ln + horas_prof_ln', data=df[cond]).fit()\n",
    "print(results06.summary())"
   ]
  },
  {
   "cell_type": "code",
   "execution_count": null,
   "metadata": {},
   "outputs": [],
   "source": []
  }
 ],
 "metadata": {
  "@webio": {
   "lastCommId": null,
   "lastKernelId": null
  },
  "hide_input": false,
  "kernelspec": {
   "display_name": "Python 3",
   "language": "python",
   "name": "python3"
  },
  "language_info": {
   "codemirror_mode": {
    "name": "ipython",
    "version": 3
   },
   "file_extension": ".py",
   "mimetype": "text/x-python",
   "name": "python",
   "nbconvert_exporter": "python",
   "pygments_lexer": "ipython3",
   "version": "3.7.4"
  }
 },
 "nbformat": 4,
 "nbformat_minor": 4
}
